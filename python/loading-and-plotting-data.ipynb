{
 "metadata": {
  "name": "loading-and-plotting-data"
 },
 "nbformat": 3,
 "nbformat_minor": 0,
 "worksheets": [
  {
   "cells": [
    {
     "cell_type": "markdown",
     "metadata": {},
     "source": [
      "# let's get started with plotting and loading real data"
     ]
    },
    {
     "cell_type": "code",
     "collapsed": false,
     "input": [
      "x = [ 5, 6, 7, 8 ]\n",
      "y = [ 10, 55, 22, 4 ]"
     ],
     "language": "python",
     "metadata": {},
     "outputs": [],
     "prompt_number": 1
    },
    {
     "cell_type": "code",
     "collapsed": false,
     "input": [
      "plot(x, y)"
     ],
     "language": "python",
     "metadata": {},
     "outputs": [
      {
       "output_type": "pyout",
       "prompt_number": 2,
       "text": [
        "[<matplotlib.lines.Line2D at 0x105f94d50>]"
       ]
      },
      {
       "output_type": "display_data",
       "png": "[encoded data removed]"
      }
     ],
     "prompt_number": 2
    },
    {
     "cell_type": "code",
     "collapsed": false,
     "input": [
      "%%file numbers.dat\n",
      "3,20\n",
      "5,55\n",
      "7,22\n",
      "8,50\n",
      "9,20\n",
      "10,30\n",
      "15,45"
     ],
     "language": "python",
     "metadata": {},
     "outputs": [
      {
       "output_type": "stream",
       "stream": "stdout",
       "text": [
        "Overwriting numbers.dat\n"
       ]
      }
     ],
     "prompt_number": 14
    },
    {
     "cell_type": "code",
     "collapsed": false,
     "input": [
      "%%file numbers2.dat\n",
      "1,2\n",
      "3,4\n",
      "5,6\n",
      "7,8"
     ],
     "language": "python",
     "metadata": {},
     "outputs": [
      {
       "output_type": "stream",
       "stream": "stdout",
       "text": [
        "Overwriting numbers2.dat\n"
       ]
      }
     ],
     "prompt_number": 19
    },
    {
     "cell_type": "code",
     "collapsed": false,
     "input": [
      "import csv\n",
      "\n",
      "fp = open('numbers.dat')\n",
      "r = csv.reader(fp)\n",
      "x2 = []\n",
      "y2 = []\n",
      "for a, b in r:\n",
      "    a = float(a)\n",
      "    b = float(b)\n",
      "    x2.append(a)\n",
      "    y2.append(b)\n",
      "\n",
      "\n",
      "fp = open('numbers2.dat')\n",
      "r = csv.reader(fp)\n",
      "x3 = []\n",
      "y3 = []\n",
      "for a, b in r:\n",
      "    a = float(a)\n",
      "    b = float(b)\n",
      "    x3.append(a)\n",
      "    y3.append(b)\n"
     ],
     "language": "python",
     "metadata": {},
     "outputs": [],
     "prompt_number": 20
    },
    {
     "cell_type": "code",
     "collapsed": false,
     "input": [
      "plot(x2, y2)\n",
      "plot(x3, y3)"
     ],
     "language": "python",
     "metadata": {},
     "outputs": [
      {
       "output_type": "pyout",
       "prompt_number": 21,
       "text": [
        "[<matplotlib.lines.Line2D at 0x10690de90>]"
       ]
      },
      {
       "output_type": "display_data",
       "png": "[encoded data removed]"
      }
     ],
     "prompt_number": 21
    },
    {
     "cell_type": "code",
     "collapsed": false,
     "input": [
      "num1 = numpy.loadtxt?"
     ],
     "language": "python",
     "metadata": {},
     "outputs": [],
     "prompt_number": 23
    },
    {
     "cell_type": "code",
     "collapsed": false,
     "input": [
      "%%file numbers3.dat\n",
      "10,20,30\n",
      "30,40,50\n",
      "50,60,50\n",
      "70,80,70"
     ],
     "language": "python",
     "metadata": {},
     "outputs": [
      {
       "output_type": "stream",
       "stream": "stdout",
       "text": [
        "Writing numbers3.dat\n"
       ]
      }
     ],
     "prompt_number": 29
    },
    {
     "cell_type": "code",
     "collapsed": false,
     "input": [
      "num1 = numpy.loadtxt('numbers.dat', delimiter=',')\n",
      "num2 = numpy.loadtxt('numbers2.dat', delimiter=',')\n",
      "num3 = numpy.loadtxt('numbers3.dat', delimiter=',')\n",
      "num4 = num3*2"
     ],
     "language": "python",
     "metadata": {},
     "outputs": [],
     "prompt_number": 33
    },
    {
     "cell_type": "code",
     "collapsed": false,
     "input": [
      "plot(num1[:,0], num1[:,1], label='num1')\n",
      "plot(num2[:,0], num2[:,1], label='num2')\n",
      "plot(num3[:,0], num3[:,2], label='num3')\n",
      "plot(num4[:,0], num4[:,2], label='num4')\n",
      "legend()"
     ],
     "language": "python",
     "metadata": {},
     "outputs": [
      {
       "output_type": "pyout",
       "prompt_number": 35,
       "text": [
        "<matplotlib.legend.Legend at 0x106f39710>"
       ]
      },
      {
       "output_type": "display_data",
       "png": "[encoded data removed]"
      }
     ],
     "prompt_number": 35
    },
    {
     "cell_type": "code",
     "collapsed": false,
     "input": [],
     "language": "python",
     "metadata": {},
     "outputs": []
    }
   ],
   "metadata": {}
  }
 ]
}